{
  "nbformat": 4,
  "nbformat_minor": 0,
  "metadata": {
    "kernelspec": {
      "language": "python",
      "display_name": "Python 3",
      "name": "python3"
    },
    "language_info": {
      "pygments_lexer": "ipython3",
      "nbconvert_exporter": "python",
      "version": "3.6.4",
      "file_extension": ".py",
      "codemirror_mode": {
        "name": "ipython",
        "version": 3
      },
      "name": "python",
      "mimetype": "text/x-python"
    },
    "colab": {
      "name": " H&R Block, Inc. (HRB).ipynb",
      "provenance": [],
      "include_colab_link": true
    }
  },
  "cells": [
    {
      "cell_type": "markdown",
      "metadata": {
        "id": "view-in-github",
        "colab_type": "text"
      },
      "source": [
        "<a href=\"https://colab.research.google.com/github/benvictoria21/AnalyzeStocks/blob/master/H%26R_Block%2C_Inc_(HRB).ipynb\" target=\"_parent\"><img src=\"https://colab.research.google.com/assets/colab-badge.svg\" alt=\"Open In Colab\"/></a>"
      ]
    },
    {
      "cell_type": "code",
      "metadata": {
        "trusted": true,
        "colab": {
          "base_uri": "https://localhost:8080/"
        },
        "id": "xyIBWVCJJvnN",
        "outputId": "53a72266-d8de-490d-ac4d-ba953d6d094a"
      },
      "source": [
        "!pip install  yfinance"
      ],
      "execution_count": 1,
      "outputs": [
        {
          "output_type": "stream",
          "text": [
            "Collecting yfinance\n",
            "  Downloading https://files.pythonhosted.org/packages/7a/e8/b9d7104d3a4bf39924799067592d9e59119fcfc900a425a12e80a3123ec8/yfinance-0.1.55.tar.gz\n",
            "Requirement already satisfied: pandas>=0.24 in /usr/local/lib/python3.6/dist-packages (from yfinance) (1.1.4)\n",
            "Requirement already satisfied: numpy>=1.15 in /usr/local/lib/python3.6/dist-packages (from yfinance) (1.18.5)\n",
            "Requirement already satisfied: requests>=2.20 in /usr/local/lib/python3.6/dist-packages (from yfinance) (2.23.0)\n",
            "Requirement already satisfied: multitasking>=0.0.7 in /usr/local/lib/python3.6/dist-packages (from yfinance) (0.0.9)\n",
            "Collecting lxml>=4.5.1\n",
            "\u001b[?25l  Downloading https://files.pythonhosted.org/packages/64/28/0b761b64ecbd63d272ed0e7a6ae6e4402fc37886b59181bfdf274424d693/lxml-4.6.1-cp36-cp36m-manylinux1_x86_64.whl (5.5MB)\n",
            "\u001b[K     |████████████████████████████████| 5.5MB 9.9MB/s \n",
            "\u001b[?25hRequirement already satisfied: pytz>=2017.2 in /usr/local/lib/python3.6/dist-packages (from pandas>=0.24->yfinance) (2018.9)\n",
            "Requirement already satisfied: python-dateutil>=2.7.3 in /usr/local/lib/python3.6/dist-packages (from pandas>=0.24->yfinance) (2.8.1)\n",
            "Requirement already satisfied: idna<3,>=2.5 in /usr/local/lib/python3.6/dist-packages (from requests>=2.20->yfinance) (2.10)\n",
            "Requirement already satisfied: certifi>=2017.4.17 in /usr/local/lib/python3.6/dist-packages (from requests>=2.20->yfinance) (2020.11.8)\n",
            "Requirement already satisfied: chardet<4,>=3.0.2 in /usr/local/lib/python3.6/dist-packages (from requests>=2.20->yfinance) (3.0.4)\n",
            "Requirement already satisfied: urllib3!=1.25.0,!=1.25.1,<1.26,>=1.21.1 in /usr/local/lib/python3.6/dist-packages (from requests>=2.20->yfinance) (1.24.3)\n",
            "Requirement already satisfied: six>=1.5 in /usr/local/lib/python3.6/dist-packages (from python-dateutil>=2.7.3->pandas>=0.24->yfinance) (1.15.0)\n",
            "Building wheels for collected packages: yfinance\n",
            "  Building wheel for yfinance (setup.py) ... \u001b[?25l\u001b[?25hdone\n",
            "  Created wheel for yfinance: filename=yfinance-0.1.55-py2.py3-none-any.whl size=22618 sha256=b7ff7920402e463976730f4b95f5849b8f20570c7671907a0d53d00d31fe913d\n",
            "  Stored in directory: /root/.cache/pip/wheels/04/98/cc/2702a4242d60bdc14f48b4557c427ded1fe92aedf257d4565c\n",
            "Successfully built yfinance\n",
            "Installing collected packages: lxml, yfinance\n",
            "  Found existing installation: lxml 4.2.6\n",
            "    Uninstalling lxml-4.2.6:\n",
            "      Successfully uninstalled lxml-4.2.6\n",
            "Successfully installed lxml-4.6.1 yfinance-0.1.55\n"
          ],
          "name": "stdout"
        }
      ]
    },
    {
      "cell_type": "code",
      "metadata": {
        "trusted": true,
        "id": "PWkgX4zaJvnO"
      },
      "source": [
        "import numpy as np \n",
        "import pandas as pd \n",
        "import matplotlib.pyplot as plt\n",
        "import yfinance"
      ],
      "execution_count": 2,
      "outputs": []
    },
    {
      "cell_type": "code",
      "metadata": {
        "trusted": true,
        "id": "FUk422_jJvnO"
      },
      "source": [
        "HRB = \"HRB\""
      ],
      "execution_count": 3,
      "outputs": []
    },
    {
      "cell_type": "code",
      "metadata": {
        "trusted": true,
        "colab": {
          "base_uri": "https://localhost:8080/",
          "height": 467
        },
        "id": "JfRS7latJvnO",
        "outputId": "783241e2-15e7-4eb9-c2ff-19fbf50b893c"
      },
      "source": [
        "HRB = yfinance.download(\"HRB\")\n",
        "\n",
        "HRB"
      ],
      "execution_count": 4,
      "outputs": [
        {
          "output_type": "stream",
          "text": [
            "\r[*********************100%***********************]  1 of 1 completed\n"
          ],
          "name": "stdout"
        },
        {
          "output_type": "execute_result",
          "data": {
            "text/html": [
              "<div>\n",
              "<style scoped>\n",
              "    .dataframe tbody tr th:only-of-type {\n",
              "        vertical-align: middle;\n",
              "    }\n",
              "\n",
              "    .dataframe tbody tr th {\n",
              "        vertical-align: top;\n",
              "    }\n",
              "\n",
              "    .dataframe thead th {\n",
              "        text-align: right;\n",
              "    }\n",
              "</style>\n",
              "<table border=\"1\" class=\"dataframe\">\n",
              "  <thead>\n",
              "    <tr style=\"text-align: right;\">\n",
              "      <th></th>\n",
              "      <th>Open</th>\n",
              "      <th>High</th>\n",
              "      <th>Low</th>\n",
              "      <th>Close</th>\n",
              "      <th>Adj Close</th>\n",
              "      <th>Volume</th>\n",
              "    </tr>\n",
              "    <tr>\n",
              "      <th>Date</th>\n",
              "      <th></th>\n",
              "      <th></th>\n",
              "      <th></th>\n",
              "      <th></th>\n",
              "      <th></th>\n",
              "      <th></th>\n",
              "    </tr>\n",
              "  </thead>\n",
              "  <tbody>\n",
              "    <tr>\n",
              "      <th>1973-02-21</th>\n",
              "      <td>0.000000</td>\n",
              "      <td>0.476562</td>\n",
              "      <td>0.457031</td>\n",
              "      <td>0.460938</td>\n",
              "      <td>0.078111</td>\n",
              "      <td>339200</td>\n",
              "    </tr>\n",
              "    <tr>\n",
              "      <th>1973-02-22</th>\n",
              "      <td>0.000000</td>\n",
              "      <td>0.457031</td>\n",
              "      <td>0.437500</td>\n",
              "      <td>0.453125</td>\n",
              "      <td>0.076787</td>\n",
              "      <td>627200</td>\n",
              "    </tr>\n",
              "    <tr>\n",
              "      <th>1973-02-23</th>\n",
              "      <td>0.000000</td>\n",
              "      <td>0.449219</td>\n",
              "      <td>0.421875</td>\n",
              "      <td>0.421875</td>\n",
              "      <td>0.071492</td>\n",
              "      <td>668800</td>\n",
              "    </tr>\n",
              "    <tr>\n",
              "      <th>1973-02-26</th>\n",
              "      <td>0.000000</td>\n",
              "      <td>0.417969</td>\n",
              "      <td>0.410156</td>\n",
              "      <td>0.410156</td>\n",
              "      <td>0.069506</td>\n",
              "      <td>521600</td>\n",
              "    </tr>\n",
              "    <tr>\n",
              "      <th>1973-02-27</th>\n",
              "      <td>0.000000</td>\n",
              "      <td>0.417969</td>\n",
              "      <td>0.394531</td>\n",
              "      <td>0.394531</td>\n",
              "      <td>0.066858</td>\n",
              "      <td>816000</td>\n",
              "    </tr>\n",
              "    <tr>\n",
              "      <th>...</th>\n",
              "      <td>...</td>\n",
              "      <td>...</td>\n",
              "      <td>...</td>\n",
              "      <td>...</td>\n",
              "      <td>...</td>\n",
              "      <td>...</td>\n",
              "    </tr>\n",
              "    <tr>\n",
              "      <th>2020-11-19</th>\n",
              "      <td>18.340000</td>\n",
              "      <td>18.440001</td>\n",
              "      <td>17.879999</td>\n",
              "      <td>18.070000</td>\n",
              "      <td>18.070000</td>\n",
              "      <td>1585400</td>\n",
              "    </tr>\n",
              "    <tr>\n",
              "      <th>2020-11-20</th>\n",
              "      <td>17.889999</td>\n",
              "      <td>18.000000</td>\n",
              "      <td>17.740000</td>\n",
              "      <td>17.930000</td>\n",
              "      <td>17.930000</td>\n",
              "      <td>1522300</td>\n",
              "    </tr>\n",
              "    <tr>\n",
              "      <th>2020-11-23</th>\n",
              "      <td>18.190001</td>\n",
              "      <td>18.480000</td>\n",
              "      <td>17.990000</td>\n",
              "      <td>18.330000</td>\n",
              "      <td>18.330000</td>\n",
              "      <td>1795800</td>\n",
              "    </tr>\n",
              "    <tr>\n",
              "      <th>2020-11-24</th>\n",
              "      <td>18.530001</td>\n",
              "      <td>19.290001</td>\n",
              "      <td>18.410000</td>\n",
              "      <td>19.180000</td>\n",
              "      <td>19.180000</td>\n",
              "      <td>2573400</td>\n",
              "    </tr>\n",
              "    <tr>\n",
              "      <th>2020-11-25</th>\n",
              "      <td>19.200001</td>\n",
              "      <td>19.200001</td>\n",
              "      <td>18.600000</td>\n",
              "      <td>18.670000</td>\n",
              "      <td>18.670000</td>\n",
              "      <td>1961500</td>\n",
              "    </tr>\n",
              "  </tbody>\n",
              "</table>\n",
              "<p>12050 rows × 6 columns</p>\n",
              "</div>"
            ],
            "text/plain": [
              "                 Open       High        Low      Close  Adj Close   Volume\n",
              "Date                                                                      \n",
              "1973-02-21   0.000000   0.476562   0.457031   0.460938   0.078111   339200\n",
              "1973-02-22   0.000000   0.457031   0.437500   0.453125   0.076787   627200\n",
              "1973-02-23   0.000000   0.449219   0.421875   0.421875   0.071492   668800\n",
              "1973-02-26   0.000000   0.417969   0.410156   0.410156   0.069506   521600\n",
              "1973-02-27   0.000000   0.417969   0.394531   0.394531   0.066858   816000\n",
              "...               ...        ...        ...        ...        ...      ...\n",
              "2020-11-19  18.340000  18.440001  17.879999  18.070000  18.070000  1585400\n",
              "2020-11-20  17.889999  18.000000  17.740000  17.930000  17.930000  1522300\n",
              "2020-11-23  18.190001  18.480000  17.990000  18.330000  18.330000  1795800\n",
              "2020-11-24  18.530001  19.290001  18.410000  19.180000  19.180000  2573400\n",
              "2020-11-25  19.200001  19.200001  18.600000  18.670000  18.670000  1961500\n",
              "\n",
              "[12050 rows x 6 columns]"
            ]
          },
          "metadata": {
            "tags": []
          },
          "execution_count": 4
        }
      ]
    },
    {
      "cell_type": "code",
      "metadata": {
        "trusted": true,
        "colab": {
          "base_uri": "https://localhost:8080/",
          "height": 235
        },
        "id": "6RvQMKYdJvnO",
        "outputId": "85c5fbdd-392d-480c-9655-6d30fbbd0106"
      },
      "source": [
        "HRB.head()"
      ],
      "execution_count": 5,
      "outputs": [
        {
          "output_type": "execute_result",
          "data": {
            "text/html": [
              "<div>\n",
              "<style scoped>\n",
              "    .dataframe tbody tr th:only-of-type {\n",
              "        vertical-align: middle;\n",
              "    }\n",
              "\n",
              "    .dataframe tbody tr th {\n",
              "        vertical-align: top;\n",
              "    }\n",
              "\n",
              "    .dataframe thead th {\n",
              "        text-align: right;\n",
              "    }\n",
              "</style>\n",
              "<table border=\"1\" class=\"dataframe\">\n",
              "  <thead>\n",
              "    <tr style=\"text-align: right;\">\n",
              "      <th></th>\n",
              "      <th>Open</th>\n",
              "      <th>High</th>\n",
              "      <th>Low</th>\n",
              "      <th>Close</th>\n",
              "      <th>Adj Close</th>\n",
              "      <th>Volume</th>\n",
              "    </tr>\n",
              "    <tr>\n",
              "      <th>Date</th>\n",
              "      <th></th>\n",
              "      <th></th>\n",
              "      <th></th>\n",
              "      <th></th>\n",
              "      <th></th>\n",
              "      <th></th>\n",
              "    </tr>\n",
              "  </thead>\n",
              "  <tbody>\n",
              "    <tr>\n",
              "      <th>1973-02-21</th>\n",
              "      <td>0.0</td>\n",
              "      <td>0.476562</td>\n",
              "      <td>0.457031</td>\n",
              "      <td>0.460938</td>\n",
              "      <td>0.078111</td>\n",
              "      <td>339200</td>\n",
              "    </tr>\n",
              "    <tr>\n",
              "      <th>1973-02-22</th>\n",
              "      <td>0.0</td>\n",
              "      <td>0.457031</td>\n",
              "      <td>0.437500</td>\n",
              "      <td>0.453125</td>\n",
              "      <td>0.076787</td>\n",
              "      <td>627200</td>\n",
              "    </tr>\n",
              "    <tr>\n",
              "      <th>1973-02-23</th>\n",
              "      <td>0.0</td>\n",
              "      <td>0.449219</td>\n",
              "      <td>0.421875</td>\n",
              "      <td>0.421875</td>\n",
              "      <td>0.071492</td>\n",
              "      <td>668800</td>\n",
              "    </tr>\n",
              "    <tr>\n",
              "      <th>1973-02-26</th>\n",
              "      <td>0.0</td>\n",
              "      <td>0.417969</td>\n",
              "      <td>0.410156</td>\n",
              "      <td>0.410156</td>\n",
              "      <td>0.069506</td>\n",
              "      <td>521600</td>\n",
              "    </tr>\n",
              "    <tr>\n",
              "      <th>1973-02-27</th>\n",
              "      <td>0.0</td>\n",
              "      <td>0.417969</td>\n",
              "      <td>0.394531</td>\n",
              "      <td>0.394531</td>\n",
              "      <td>0.066858</td>\n",
              "      <td>816000</td>\n",
              "    </tr>\n",
              "  </tbody>\n",
              "</table>\n",
              "</div>"
            ],
            "text/plain": [
              "            Open      High       Low     Close  Adj Close  Volume\n",
              "Date                                                             \n",
              "1973-02-21   0.0  0.476562  0.457031  0.460938   0.078111  339200\n",
              "1973-02-22   0.0  0.457031  0.437500  0.453125   0.076787  627200\n",
              "1973-02-23   0.0  0.449219  0.421875  0.421875   0.071492  668800\n",
              "1973-02-26   0.0  0.417969  0.410156  0.410156   0.069506  521600\n",
              "1973-02-27   0.0  0.417969  0.394531  0.394531   0.066858  816000"
            ]
          },
          "metadata": {
            "tags": []
          },
          "execution_count": 5
        }
      ]
    },
    {
      "cell_type": "code",
      "metadata": {
        "trusted": true,
        "colab": {
          "base_uri": "https://localhost:8080/"
        },
        "id": "ccdfZay0JvnO",
        "outputId": "1339efd9-7139-499f-ec3f-81e765b2ee79"
      },
      "source": [
        "HRB.Close"
      ],
      "execution_count": 6,
      "outputs": [
        {
          "output_type": "execute_result",
          "data": {
            "text/plain": [
              "Date\n",
              "1973-02-21     0.460938\n",
              "1973-02-22     0.453125\n",
              "1973-02-23     0.421875\n",
              "1973-02-26     0.410156\n",
              "1973-02-27     0.394531\n",
              "                ...    \n",
              "2020-11-19    18.070000\n",
              "2020-11-20    17.930000\n",
              "2020-11-23    18.330000\n",
              "2020-11-24    19.180000\n",
              "2020-11-25    18.670000\n",
              "Name: Close, Length: 12050, dtype: float64"
            ]
          },
          "metadata": {
            "tags": []
          },
          "execution_count": 6
        }
      ]
    },
    {
      "cell_type": "code",
      "metadata": {
        "trusted": true,
        "colab": {
          "base_uri": "https://localhost:8080/",
          "height": 296
        },
        "id": "jATUREZJJvnO",
        "outputId": "f8c815b1-2be7-47bb-ec41-b11aca76a8a3"
      },
      "source": [
        "plt.xlabel(\"days\")         \n",
        "plt.ylabel(\"price\")    \n",
        "plt.grid()              \n",
        "plt.plot(HRB.Close)"
      ],
      "execution_count": 7,
      "outputs": [
        {
          "output_type": "execute_result",
          "data": {
            "text/plain": [
              "[<matplotlib.lines.Line2D at 0x7fbf4ba07b38>]"
            ]
          },
          "metadata": {
            "tags": []
          },
          "execution_count": 7
        },
        {
          "output_type": "display_data",
          "data": {
            "image/png": "[encoded data removed]",
            "text/plain": [
              "<Figure size 432x288 with 1 Axes>"
            ]
          },
          "metadata": {
            "tags": [],
            "needs_background": "light"
          }
        }
      ]
    },
    {
      "cell_type": "code",
      "metadata": {
        "trusted": true,
        "colab": {
          "base_uri": "https://localhost:8080/"
        },
        "id": "CevQs-zkJvnO",
        "outputId": "f2789809-341b-4fe4-d8da-ce1b47c05a16"
      },
      "source": [
        "HRB.High"
      ],
      "execution_count": 8,
      "outputs": [
        {
          "output_type": "execute_result",
          "data": {
            "text/plain": [
              "Date\n",
              "1973-02-21     0.476562\n",
              "1973-02-22     0.457031\n",
              "1973-02-23     0.449219\n",
              "1973-02-26     0.417969\n",
              "1973-02-27     0.417969\n",
              "                ...    \n",
              "2020-11-19    18.440001\n",
              "2020-11-20    18.000000\n",
              "2020-11-23    18.480000\n",
              "2020-11-24    19.290001\n",
              "2020-11-25    19.200001\n",
              "Name: High, Length: 12050, dtype: float64"
            ]
          },
          "metadata": {
            "tags": []
          },
          "execution_count": 8
        }
      ]
    },
    {
      "cell_type": "code",
      "metadata": {
        "trusted": true,
        "colab": {
          "base_uri": "https://localhost:8080/",
          "height": 296
        },
        "id": "tuIhCzb6JvnO",
        "outputId": "02e080d2-8422-4e39-dc37-e873a6797950"
      },
      "source": [
        "plt.xlabel(\"days\")        \n",
        "plt.ylabel(\"price\")   \n",
        "plt.grid()              \n",
        "plt.plot(HRB.Close)"
      ],
      "execution_count": 9,
      "outputs": [
        {
          "output_type": "execute_result",
          "data": {
            "text/plain": [
              "[<matplotlib.lines.Line2D at 0x7fbf4ba46128>]"
            ]
          },
          "metadata": {
            "tags": []
          },
          "execution_count": 9
        },
        {
          "output_type": "display_data",
          "data": {
            "image/png": "[encoded data removed]",
            "text/plain": [
              "<Figure size 432x288 with 1 Axes>"
            ]
          },
          "metadata": {
            "tags": [],
            "needs_background": "light"
          }
        }
      ]
    },
    {
      "cell_type": "code",
      "metadata": {
        "trusted": true,
        "colab": {
          "base_uri": "https://localhost:8080/",
          "height": 265
        },
        "id": "Pi4mXnD0JvnO",
        "outputId": "95859ffb-2b3b-4532-c2fd-9b3da9af5305"
      },
      "source": [
        "plt.plot(HRB.High)\n",
        "plt.grid()  "
      ],
      "execution_count": 10,
      "outputs": [
        {
          "output_type": "display_data",
          "data": {
            "image/png": "[encoded data removed]",
            "text/plain": [
              "<Figure size 432x288 with 1 Axes>"
            ]
          },
          "metadata": {
            "tags": [],
            "needs_background": "light"
          }
        }
      ]
    },
    {
      "cell_type": "code",
      "metadata": {
        "trusted": true,
        "colab": {
          "base_uri": "https://localhost:8080/"
        },
        "id": "sTdPIpe2JvnO",
        "outputId": "529fcbd2-7195-4d63-9573-5fdb5ca4958d"
      },
      "source": [
        "HRB.Open"
      ],
      "execution_count": 11,
      "outputs": [
        {
          "output_type": "execute_result",
          "data": {
            "text/plain": [
              "Date\n",
              "1973-02-21     0.000000\n",
              "1973-02-22     0.000000\n",
              "1973-02-23     0.000000\n",
              "1973-02-26     0.000000\n",
              "1973-02-27     0.000000\n",
              "                ...    \n",
              "2020-11-19    18.340000\n",
              "2020-11-20    17.889999\n",
              "2020-11-23    18.190001\n",
              "2020-11-24    18.530001\n",
              "2020-11-25    19.200001\n",
              "Name: Open, Length: 12050, dtype: float64"
            ]
          },
          "metadata": {
            "tags": []
          },
          "execution_count": 11
        }
      ]
    },
    {
      "cell_type": "code",
      "metadata": {
        "trusted": true,
        "colab": {
          "base_uri": "https://localhost:8080/",
          "height": 299
        },
        "id": "FBaQbyl8JvnP",
        "outputId": "38aeb9df-f3c0-43f7-f2ca-620e02a1d346"
      },
      "source": [
        "print(len(HRB.Close))\n",
        "las100_days = HRB.High[2316:2415]\n",
        "plt.plot(las100_days)"
      ],
      "execution_count": 12,
      "outputs": [
        {
          "output_type": "stream",
          "text": [
            "12050\n"
          ],
          "name": "stdout"
        },
        {
          "output_type": "execute_result",
          "data": {
            "text/plain": [
              "[<matplotlib.lines.Line2D at 0x7fbf4bb45f28>]"
            ]
          },
          "metadata": {
            "tags": []
          },
          "execution_count": 12
        },
        {
          "output_type": "display_data",
          "data": {
            "image/png": "[encoded data removed]",
            "text/plain": [
              "<Figure size 432x288 with 1 Axes>"
            ]
          },
          "metadata": {
            "tags": [],
            "needs_background": "light"
          }
        }
      ]
    }
  ]
}